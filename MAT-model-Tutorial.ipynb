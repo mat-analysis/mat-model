{
 "cells": [
  {
   "cell_type": "markdown",
   "metadata": {},
   "source": [
    "# MAT-model: Model Classes for Multiple Aspect Trajectory Data Mining \\[MAT-Tools Framework\\]\n",
    "\n",
    "Sample Code in python notebook to use `mat-model` as a python library.\n",
    "\n",
    "The present package offers a tool, to support the user in the task of modeling multiple aspect trajectories. It integrates into a unique framework for multiple aspects trajectories and in general for multidimensional sequence data mining methods.\n",
    "\n",
    "Created on Apr, 2024\n",
    "Copyright (C) 2023, License GPL Version 3 or superior (see LICENSE file)"
   ]
  },
  {
   "cell_type": "code",
   "execution_count": 13,
   "metadata": {
    "collapsed": true,
    "jupyter": {
     "outputs_hidden": true
    },
    "tags": []
   },
   "outputs": [
    {
     "name": "stdout",
     "output_type": "stream",
     "text": [
      "Found existing installation: mat-model 0.1b1\n",
      "Uninstalling mat-model-0.1b1:\n",
      "  Would remove:\n",
      "    /Users/tarlisportela/miniforge3/lib/python3.9/site-packages/mat_model-0.1b1.dist-info/*\n",
      "    /Users/tarlisportela/miniforge3/lib/python3.9/site-packages/matmodel/*\n",
      "Proceed (Y/n)? ^C\n",
      "\u001b[31mERROR: Operation cancelled by user\u001b[0m\u001b[31m\n",
      "\u001b[0m"
     ]
    }
   ],
   "source": [
    "#!pip install mat-model\n",
    "#!pip install --upgrade mat-model"
   ]
  },
  {
   "cell_type": "code",
   "execution_count": 1,
   "metadata": {},
   "outputs": [
    {
     "name": "stdout",
     "output_type": "stream",
     "text": [
      "Loading dataset file: https://github.com/mat-analysis/datasets/tree/main/mat/FoursquareNYC/\n"
     ]
    },
    {
     "name": "stderr",
     "output_type": "stream",
     "text": [
      "  % Total    % Received % Xferd  Average Speed   Time    Time     Time  Current\n",
      "                                 Dload  Upload   Total   Spent    Left  Speed\n",
      "100  850k  100  850k    0     0  1370k      0 --:--:-- --:--:-- --:--:-- 1381k\n"
     ]
    },
    {
     "data": {
      "application/vnd.jupyter.widget-view+json": {
       "model_id": "a29dc2ce94bd4d498d1ab884ac44a6bf",
       "version_major": 2,
       "version_minor": 0
      },
      "text/plain": [
       "Spliting Data (class-balanced):   0%|          | 0/193 [00:00<?, ?it/s]"
      ]
     },
     "metadata": {},
     "output_type": "display_data"
    },
    {
     "data": {
      "text/html": [
       "<div>\n",
       "<style scoped>\n",
       "    .dataframe tbody tr th:only-of-type {\n",
       "        vertical-align: middle;\n",
       "    }\n",
       "\n",
       "    .dataframe tbody tr th {\n",
       "        vertical-align: top;\n",
       "    }\n",
       "\n",
       "    .dataframe thead th {\n",
       "        text-align: right;\n",
       "    }\n",
       "</style>\n",
       "<table border=\"1\" class=\"dataframe\">\n",
       "  <thead>\n",
       "    <tr style=\"text-align: right;\">\n",
       "      <th></th>\n",
       "      <th>day</th>\n",
       "      <th>hour</th>\n",
       "      <th>poi</th>\n",
       "      <th>category</th>\n",
       "      <th>price</th>\n",
       "      <th>rating</th>\n",
       "      <th>weather</th>\n",
       "      <th>space</th>\n",
       "      <th>tid</th>\n",
       "      <th>label</th>\n",
       "    </tr>\n",
       "  </thead>\n",
       "  <tbody>\n",
       "    <tr>\n",
       "      <th>0</th>\n",
       "      <td>Monday</td>\n",
       "      <td>17</td>\n",
       "      <td>22898</td>\n",
       "      <td>Travel &amp; Transport</td>\n",
       "      <td>NaN</td>\n",
       "      <td>NaN</td>\n",
       "      <td>Clear</td>\n",
       "      <td>40.660473835167 -73.83029108918642</td>\n",
       "      <td>128</td>\n",
       "      <td>6</td>\n",
       "    </tr>\n",
       "    <tr>\n",
       "      <th>1</th>\n",
       "      <td>Monday</td>\n",
       "      <td>19</td>\n",
       "      <td>35508</td>\n",
       "      <td>Outdoors &amp; Recreation</td>\n",
       "      <td>NaN</td>\n",
       "      <td>NaN</td>\n",
       "      <td>Clear</td>\n",
       "      <td>40.6086420833785 -73.8190376758575</td>\n",
       "      <td>128</td>\n",
       "      <td>6</td>\n",
       "    </tr>\n",
       "    <tr>\n",
       "      <th>2</th>\n",
       "      <td>Monday</td>\n",
       "      <td>20</td>\n",
       "      <td>1655</td>\n",
       "      <td>Shop &amp; Service</td>\n",
       "      <td>NaN</td>\n",
       "      <td>7.5</td>\n",
       "      <td>Clear</td>\n",
       "      <td>40.734055576476294 -73.8708472251892</td>\n",
       "      <td>128</td>\n",
       "      <td>6</td>\n",
       "    </tr>\n",
       "    <tr>\n",
       "      <th>3</th>\n",
       "      <td>Monday</td>\n",
       "      <td>20</td>\n",
       "      <td>15419</td>\n",
       "      <td>Travel &amp; Transport</td>\n",
       "      <td>NaN</td>\n",
       "      <td>NaN</td>\n",
       "      <td>Clear</td>\n",
       "      <td>40.733372474683705 -73.8711404741537</td>\n",
       "      <td>128</td>\n",
       "      <td>6</td>\n",
       "    </tr>\n",
       "    <tr>\n",
       "      <th>4</th>\n",
       "      <td>Monday</td>\n",
       "      <td>21</td>\n",
       "      <td>33403</td>\n",
       "      <td>Travel &amp; Transport</td>\n",
       "      <td>NaN</td>\n",
       "      <td>NaN</td>\n",
       "      <td>Clear</td>\n",
       "      <td>40.7631337910326 -73.8752118314646</td>\n",
       "      <td>128</td>\n",
       "      <td>6</td>\n",
       "    </tr>\n",
       "    <tr>\n",
       "      <th>...</th>\n",
       "      <td>...</td>\n",
       "      <td>...</td>\n",
       "      <td>...</td>\n",
       "      <td>...</td>\n",
       "      <td>...</td>\n",
       "      <td>...</td>\n",
       "      <td>...</td>\n",
       "      <td>...</td>\n",
       "      <td>...</td>\n",
       "      <td>...</td>\n",
       "    </tr>\n",
       "    <tr>\n",
       "      <th>15270</th>\n",
       "      <td>Thursday</td>\n",
       "      <td>15</td>\n",
       "      <td>1805</td>\n",
       "      <td>College &amp; University</td>\n",
       "      <td>NaN</td>\n",
       "      <td>NaN</td>\n",
       "      <td>Clear</td>\n",
       "      <td>40.70473327890429 -73.9877378940582</td>\n",
       "      <td>29559</td>\n",
       "      <td>1070</td>\n",
       "    </tr>\n",
       "    <tr>\n",
       "      <th>15271</th>\n",
       "      <td>Friday</td>\n",
       "      <td>8</td>\n",
       "      <td>16452</td>\n",
       "      <td>Outdoors &amp; Recreation</td>\n",
       "      <td>NaN</td>\n",
       "      <td>6.9</td>\n",
       "      <td>Clear</td>\n",
       "      <td>40.69780266528221 -73.9941451630314</td>\n",
       "      <td>29559</td>\n",
       "      <td>1070</td>\n",
       "    </tr>\n",
       "    <tr>\n",
       "      <th>15272</th>\n",
       "      <td>Friday</td>\n",
       "      <td>13</td>\n",
       "      <td>16201</td>\n",
       "      <td>Food</td>\n",
       "      <td>1.0</td>\n",
       "      <td>7.0</td>\n",
       "      <td>Clear</td>\n",
       "      <td>40.6946728967503 -73.9940820360805</td>\n",
       "      <td>29559</td>\n",
       "      <td>1070</td>\n",
       "    </tr>\n",
       "    <tr>\n",
       "      <th>15273</th>\n",
       "      <td>Friday</td>\n",
       "      <td>21</td>\n",
       "      <td>13261</td>\n",
       "      <td>Food</td>\n",
       "      <td>2.0</td>\n",
       "      <td>7.6</td>\n",
       "      <td>Clear</td>\n",
       "      <td>40.702369470990895 -73.9875124790989</td>\n",
       "      <td>29559</td>\n",
       "      <td>1070</td>\n",
       "    </tr>\n",
       "    <tr>\n",
       "      <th>15274</th>\n",
       "      <td>Saturday</td>\n",
       "      <td>0</td>\n",
       "      <td>36212</td>\n",
       "      <td>College &amp; University</td>\n",
       "      <td>NaN</td>\n",
       "      <td>NaN</td>\n",
       "      <td>Clouds</td>\n",
       "      <td>40.697720739718896 -73.99302035242691</td>\n",
       "      <td>29559</td>\n",
       "      <td>1070</td>\n",
       "    </tr>\n",
       "  </tbody>\n",
       "</table>\n",
       "<p>15275 rows × 10 columns</p>\n",
       "</div>"
      ],
      "text/plain": [
       "            day  hour    poi               category  price  rating weather  \\\n",
       "0        Monday    17  22898     Travel & Transport    NaN     NaN   Clear   \n",
       "1        Monday    19  35508  Outdoors & Recreation    NaN     NaN   Clear   \n",
       "2        Monday    20   1655         Shop & Service    NaN     7.5   Clear   \n",
       "3        Monday    20  15419     Travel & Transport    NaN     NaN   Clear   \n",
       "4        Monday    21  33403     Travel & Transport    NaN     NaN   Clear   \n",
       "...         ...   ...    ...                    ...    ...     ...     ...   \n",
       "15270  Thursday    15   1805   College & University    NaN     NaN   Clear   \n",
       "15271    Friday     8  16452  Outdoors & Recreation    NaN     6.9   Clear   \n",
       "15272    Friday    13  16201                   Food    1.0     7.0   Clear   \n",
       "15273    Friday    21  13261                   Food    2.0     7.6   Clear   \n",
       "15274  Saturday     0  36212   College & University    NaN     NaN  Clouds   \n",
       "\n",
       "                                       space    tid  label  \n",
       "0         40.660473835167 -73.83029108918642    128      6  \n",
       "1         40.6086420833785 -73.8190376758575    128      6  \n",
       "2       40.734055576476294 -73.8708472251892    128      6  \n",
       "3       40.733372474683705 -73.8711404741537    128      6  \n",
       "4         40.7631337910326 -73.8752118314646    128      6  \n",
       "...                                      ...    ...    ...  \n",
       "15270    40.70473327890429 -73.9877378940582  29559   1070  \n",
       "15271    40.69780266528221 -73.9941451630314  29559   1070  \n",
       "15272     40.6946728967503 -73.9940820360805  29559   1070  \n",
       "15273   40.702369470990895 -73.9875124790989  29559   1070  \n",
       "15274  40.697720739718896 -73.99302035242691  29559   1070  \n",
       "\n",
       "[15275 rows x 10 columns]"
      ]
     },
     "execution_count": 1,
     "metadata": {},
     "output_type": "execute_result"
    }
   ],
   "source": [
    "from matdata.dataset import *\n",
    "df = load_ds(sample_size=0.25, missing=None)\n",
    "df"
   ]
  },
  {
   "cell_type": "markdown",
   "metadata": {},
   "source": [
    "#### Trajectory Objects\n",
    "\n",
    "Alternatively, you can convert the dataframe into Trajectory objects:"
   ]
  },
  {
   "cell_type": "code",
   "execution_count": 2,
   "metadata": {},
   "outputs": [
    {
     "data": {
      "application/vnd.jupyter.widget-view+json": {
       "model_id": "c837401b0b9847cfb3c095e240174ee9",
       "version_major": 2,
       "version_minor": 0
      },
      "text/plain": [
       "Converting Trajectories:   0%|          | 0/694 [00:00<?, ?it/s]"
      ]
     },
     "metadata": {},
     "output_type": "display_data"
    }
   ],
   "source": [
    "from matmodel.util.parsers import df2trajectory\n",
    "\n",
    "T = df2trajectory(df)\n",
    "traj = T[73]"
   ]
  },
  {
   "cell_type": "code",
   "execution_count": 4,
   "metadata": {},
   "outputs": [
    {
     "data": {
      "text/plain": [
       "[1. day (nominal),\n",
       " 2. hour (numeric),\n",
       " 3. poi (numeric),\n",
       " 4. category (nominal),\n",
       " 5. price (numeric),\n",
       " 6. rating (numeric),\n",
       " 7. weather (nominal),\n",
       " 8. space (space2d)]"
      ]
     },
     "execution_count": 4,
     "metadata": {},
     "output_type": "execute_result"
    }
   ],
   "source": [
    "traj.attributes"
   ]
  },
  {
   "cell_type": "code",
   "execution_count": 3,
   "metadata": {},
   "outputs": [
    {
     "name": "stdout",
     "output_type": "stream",
     "text": [
      "𝘛𐄁2619 \t𝘱1⟨Tuesday, 7.0, 24188.0, Residence, nan, nan, Clear, (40.762 -73.789)⟩↴\n",
      "\t𝘱2⟨Tuesday, 8.0, 11255.0, Travel & Transport, nan, nan, Clear, (40.755 -73.846)⟩↴\n",
      "\t𝘱3⟨Tuesday, 8.0, 18516.0, Travel & Transport, nan, nan, Clear, (40.749 -73.870)⟩↴\n",
      "\t𝘱4⟨Tuesday, 8.0, 7825.0, Travel & Transport, nan, nan, Clouds, (40.747 -73.946)⟩↴\n",
      "\t𝘱5⟨Tuesday, 14.0, 15434.0, Professional & Other Places, nan, nan, Clear, (40.708 -74.008)⟩↴\n",
      "\t𝘱6⟨Wednesday, 7.0, 24188.0, Residence, nan, nan, Clear, (40.762 -73.789)⟩↴\n",
      "\t𝘱7⟨Wednesday, 8.0, 19019.0, Professional & Other Places, nan, nan, Clear, (40.755 -73.848)⟩↴\n",
      "\t𝘱8⟨Wednesday, 8.0, 11255.0, Travel & Transport, nan, nan, Clear, (40.755 -73.846)⟩↴\n",
      "\t𝘱9⟨Wednesday, 8.0, 18516.0, Travel & Transport, nan, nan, Clear, (40.749 -73.870)⟩↴\n",
      "\t𝘱10⟨Wednesday, 8.0, 33775.0, Travel & Transport, nan, nan, Clear, (40.744 -73.931)⟩↴\n",
      "\t𝘱11⟨Wednesday, 8.0, 7825.0, Travel & Transport, nan, nan, Clear, (40.747 -73.946)⟩↴\n",
      "\t𝘱12⟨Wednesday, 9.0, 15434.0, Professional & Other Places, nan, nan, Clear, (40.708 -74.008)⟩↴\n",
      "\t𝘱13⟨Wednesday, 9.0, 7058.0, Professional & Other Places, nan, nan, Clear, (40.708 -74.008)⟩\n"
     ]
    }
   ],
   "source": [
    "traj.display()"
   ]
  },
  {
   "cell_type": "code",
   "execution_count": 22,
   "metadata": {},
   "outputs": [
    {
     "data": {
      "text/plain": [
       "𝘱1⟨Tuesday, 7, 24188, Residence, nan, nan, Clear, (40.762 -73.789)⟩"
      ]
     },
     "execution_count": 22,
     "metadata": {},
     "output_type": "execute_result"
    }
   ],
   "source": [
    "traj.points[0]"
   ]
  },
  {
   "cell_type": "code",
   "execution_count": 23,
   "metadata": {},
   "outputs": [
    {
     "data": {
      "text/plain": [
       "(Tuesday, 7)"
      ]
     },
     "execution_count": 23,
     "metadata": {},
     "output_type": "execute_result"
    }
   ],
   "source": [
    "traj.points[0].aspects[0], traj.points[0].aspects[1]"
   ]
  },
  {
   "cell_type": "code",
   "execution_count": 24,
   "metadata": {},
   "outputs": [
    {
     "data": {
      "text/plain": [
       "[1. day (nominal),\n",
       " 2. hour (time),\n",
       " 3. poi (nominal),\n",
       " 4. category (nominal),\n",
       " 5. price (numeric),\n",
       " 6. rating (numeric),\n",
       " 7. weather (nominal),\n",
       " 8. space (space2d)]"
      ]
     },
     "execution_count": 24,
     "metadata": {},
     "output_type": "execute_result"
    }
   ],
   "source": [
    "traj.attributes"
   ]
  },
  {
   "cell_type": "code",
   "execution_count": 28,
   "metadata": {},
   "outputs": [
    {
     "data": {
      "text/plain": [
       "('category', Residence)"
      ]
     },
     "execution_count": 28,
     "metadata": {},
     "output_type": "execute_result"
    }
   ],
   "source": [
    "traj.attributes[3].text, traj.points[0].aspects[3]"
   ]
  },
  {
   "cell_type": "code",
   "execution_count": 29,
   "metadata": {},
   "outputs": [
    {
     "data": {
      "text/plain": [
       "[1. day (nominal),\n",
       " 2. hour (time),\n",
       " 3. poi (nominal),\n",
       " 4. category (nominal),\n",
       " 5. price (numeric),\n",
       " 6. rating (numeric),\n",
       " 7. weather (nominal),\n",
       " 8. space (space2d)]"
      ]
     },
     "execution_count": 29,
     "metadata": {},
     "output_type": "execute_result"
    }
   ],
   "source": [
    "traj.attributes_desc.attributes"
   ]
  },
  {
   "cell_type": "code",
   "execution_count": 30,
   "metadata": {},
   "outputs": [
    {
     "name": "stdout",
     "output_type": "stream",
     "text": [
      "9. tid (numeric)\n",
      "10. label (nominal)\n"
     ]
    }
   ],
   "source": [
    "print(traj.attributes_desc.idDesc)\n",
    "print(traj.attributes_desc.labelDesc)"
   ]
  },
  {
   "cell_type": "code",
   "execution_count": 31,
   "metadata": {},
   "outputs": [
    {
     "name": "stdout",
     "output_type": "stream",
     "text": [
      "1 -- day -- nominal\n",
      "Comparator: <matmodel.distance.comparator.EqualsDistance object at 0x1458c6550>\n"
     ]
    }
   ],
   "source": [
    "a1 = traj.attributes[0]\n",
    "print(a1.order, a1.text, a1.dtype, sep=' -- ')\n",
    "\n",
    "print('Comparator:', a1.comparator)"
   ]
  },
  {
   "cell_type": "code",
   "execution_count": 6,
   "metadata": {},
   "outputs": [
    {
     "data": {
      "text/plain": [
       "0"
      ]
     },
     "execution_count": 6,
     "metadata": {},
     "output_type": "execute_result"
    }
   ],
   "source": [
    "# Calcular a distancia do p1 com p2, no atributo 1 (São iguais)\n",
    "a1.comparator.distance(traj.points[0].aspects[0], traj.points[1].aspects[0])"
   ]
  },
  {
   "cell_type": "code",
   "execution_count": 7,
   "metadata": {},
   "outputs": [
    {
     "data": {
      "text/plain": [
       "1"
      ]
     },
     "execution_count": 7,
     "metadata": {},
     "output_type": "execute_result"
    }
   ],
   "source": [
    "# Calcular a distancia do p1 com p6, no atributo 1 (São diferentes)\n",
    "a1.comparator.distance(traj.points[0].aspects[0], traj.points[5].aspects[0])"
   ]
  },
  {
   "cell_type": "code",
   "execution_count": 8,
   "metadata": {},
   "outputs": [
    {
     "data": {
      "text/plain": [
       "(4, 100)"
      ]
     },
     "execution_count": 8,
     "metadata": {},
     "output_type": "execute_result"
    }
   ],
   "source": [
    "d1 = 2\n",
    "d2 = 10\n",
    "\n",
    "# isso era uma função que o Andres usava para aumentar a diferença proporcionalmente quanto maior fosse a distancia,\n",
    "# vai até o max_value do comparador (se for setado)\n",
    "a1.comparator.enhance(d1), a1.comparator.enhance(d2)"
   ]
  },
  {
   "cell_type": "code",
   "execution_count": 9,
   "metadata": {},
   "outputs": [
    {
     "data": {
      "text/plain": [
       "(0.25, 0.75)"
      ]
     },
     "execution_count": 9,
     "metadata": {},
     "output_type": "execute_result"
    }
   ],
   "source": [
    "d1 = 25\n",
    "d2 = 75\n",
    "\n",
    "# Se tiver valores de distância que quiser normalizar de 0 a 1, dá pra atribuir o maior valor de distância possível:\n",
    "a1.comparator.max_value = 100\n",
    "a1.comparator.normalize(d1), a1.comparator.normalize(d2)"
   ]
  },
  {
   "cell_type": "code",
   "execution_count": 10,
   "metadata": {},
   "outputs": [
    {
     "name": "stdout",
     "output_type": "stream",
     "text": [
      "Help on method distance in module matmodel.distance.comparator:\n",
      "\n",
      "distance(asp1, asp2) method of matmodel.distance.comparator.EqualsDistance instance\n",
      "    Calculates the distance for eqality ignoring case.\n",
      "    \n",
      "    Arguments:\n",
      "    asp1 (Aspect<nominal>) - value 1 to compare\n",
      "    asp2 (Aspect<nominal>) - value 2 to compare\n",
      "    \n",
      "    Return:\n",
      "    distance - distance equality value (0 for equal values, 1 for different).\n",
      "\n"
     ]
    }
   ],
   "source": [
    "help(a1.comparator.distance)"
   ]
  },
  {
   "cell_type": "code",
   "execution_count": 15,
   "metadata": {},
   "outputs": [
    {
     "name": "stdout",
     "output_type": "stream",
     "text": [
      "Tuesday Tuesday 0\n",
      "Tuesday Wednesday 4\n",
      "Tuesday Tuesday 0\n",
      "Tuesday Wednesday 6\n"
     ]
    }
   ],
   "source": [
    "# Eu posso criar outros comparadores, ou trocar:\n",
    "from matmodel.distance.comparator import LcsDistance, EditlcsDistance\n",
    "\n",
    "a1.comparator = LcsDistance()\n",
    "print(traj.points[0].aspects[0], traj.points[2].aspects[0], a1.comparator.distance(traj.points[0].aspects[0], traj.points[2].aspects[0]))\n",
    "print(traj.points[0].aspects[0], traj.points[5].aspects[0], a1.comparator.distance(traj.points[0].aspects[0], traj.points[5].aspects[0]))\n",
    "\n",
    "a1.comparator = EditlcsDistance()\n",
    "print(traj.points[0].aspects[0], traj.points[2].aspects[0], a1.comparator.distance(traj.points[0].aspects[0], traj.points[2].aspects[0]))\n",
    "print(traj.points[0].aspects[0], traj.points[5].aspects[0], a1.comparator.distance(traj.points[0].aspects[0], traj.points[5].aspects[0]))"
   ]
  },
  {
   "cell_type": "code",
   "execution_count": 11,
   "metadata": {},
   "outputs": [
    {
     "data": {
      "application/vnd.jupyter.widget-view+json": {
       "model_id": "7c628f654f34407b98005cb57912439a",
       "version_major": 2,
       "version_minor": 0
      },
      "text/plain": [
       "Converting Trajectories:   0%|          | 0/694 [00:00<?, ?it/s]"
      ]
     },
     "metadata": {},
     "output_type": "display_data"
    }
   ],
   "source": [
    "# Com descritor já pronto:\n",
    "from matmodel.util.parsers import df2trajectory\n",
    "T = df2trajectory(df, attributes_desc='../datasets/mat/descriptors/FoursquareNYC_hp.json')\n",
    "traj = T[73]"
   ]
  },
  {
   "cell_type": "code",
   "execution_count": 16,
   "metadata": {},
   "outputs": [
    {
     "name": "stdout",
     "output_type": "stream",
     "text": [
      "1. day (nominal) <matmodel.distance.comparator.EqualsDistance object at 0x1458c6550>\n",
      "2. hour (time) <matmodel.distance.comparator.TimeDistance object at 0x1458c64f0>\n",
      "3. poi (nominal) <matmodel.distance.comparator.EqualsDistance object at 0x1458c6340>\n",
      "4. category (nominal) <matmodel.distance.comparator.EqualsDistance object at 0x1458c6160>\n",
      "5. price (numeric) <matmodel.distance.comparator.AbsoluteDistance object at 0x1458c6220>\n",
      "6. rating (numeric) <matmodel.distance.comparator.AbsoluteDistance object at 0x1458c60a0>\n",
      "7. weather (nominal) <matmodel.distance.comparator.EqualsDistance object at 0x1458c6640>\n",
      "8. space (space2d) <matmodel.distance.comparator.EuclideanDistance object at 0x1458c6730>\n"
     ]
    }
   ],
   "source": [
    "for attr in traj.attributes:\n",
    "    print(attr, attr.comparator)"
   ]
  },
  {
   "cell_type": "markdown",
   "metadata": {},
   "source": [
    "---"
   ]
  },
  {
   "cell_type": "markdown",
   "metadata": {
    "jp-MarkdownHeadingCollapsed": true,
    "tags": []
   },
   "source": [
    "# --"
   ]
  },
  {
   "cell_type": "code",
   "execution_count": 23,
   "metadata": {},
   "outputs": [
    {
     "data": {
      "text/plain": [
       "{'lat_lon': {'order': 1,\n",
       "  'type': 'space2d',\n",
       "  'text': 'lat_lon',\n",
       "  'comparator': {'distance': 'euclidean'}},\n",
       " 'day': {'order': 2,\n",
       "  'type': 'nominal',\n",
       "  'text': 'day',\n",
       "  'comparator': {'distance': 'equals'}}}"
      ]
     },
     "execution_count": 23,
     "metadata": {},
     "output_type": "execute_result"
    }
   ],
   "source": [
    "sel_attributes = ['poi', 'day', 'category', 'weather']\n",
    "attributes = [{'order': 1, 'type': 'space2d', 'text': 'lat_lon', 'comparator': {'distance': 'euclidean'}}, {'order': 2, 'type': 'nominal', 'text': 'day', 'comparator': {'distance': 'equals'}},{'order': 1, 'type': 'space2d', 'text': 'lat_lon', 'comparator': {'distance': 'euclidean'}}, {'order': 2, 'type': 'nominal', 'text': 'day', 'comparator': {'distance': 'equals'}}]\n",
    "\n",
    "dict(map(lambda item: (item['text'], item), attributes))"
   ]
  },
  {
   "cell_type": "code",
   "execution_count": 1,
   "metadata": {},
   "outputs": [
    {
     "data": {
      "text/plain": [
       "{'HiperMovelets': {'hiper': 'HiPerMovelets',\n",
       "  'hiper-pivots': 'HiPerPivots',\n",
       "  'hiper+Log': 'HiPerMovelets-Log',\n",
       "  'hiper-pivots+Log': 'HiPerPivots-Log'},\n",
       " 'MasterMovelets': {'MM': 'MASTERMovelets',\n",
       "  'MM+Log': 'MASTERMovelets-Log',\n",
       "  'MMp': 'MASTERPivots',\n",
       "  'MMp+Log': 'MASTERPivots-Log',\n",
       "  'MML': 'MASTERMovelets-Log',\n",
       "  'MMpL': 'MASTERPivots-Log'}}"
      ]
     },
     "execution_count": 1,
     "metadata": {},
     "output_type": "execute_result"
    }
   ],
   "source": [
    "from matmodel.method import MethodWrapper\n",
    "\n",
    "MethodWrapper.providedMethods()"
   ]
  },
  {
   "cell_type": "code",
   "execution_count": 1,
   "metadata": {},
   "outputs": [
    {
     "data": {
      "text/plain": [
       "0"
      ]
     },
     "execution_count": 1,
     "metadata": {},
     "output_type": "execute_result"
    }
   ],
   "source": [
    "from matmodel.method.MethodWrapper import Param\n",
    "\n",
    "Param.TYPE_TEXT"
   ]
  },
  {
   "cell_type": "markdown",
   "metadata": {},
   "source": [
    "\\# By Tarlis Portela (2023)"
   ]
  }
 ],
 "metadata": {
  "kernelspec": {
   "display_name": "Python 3 (ipykernel)",
   "language": "python",
   "name": "python3"
  },
  "language_info": {
   "codemirror_mode": {
    "name": "ipython",
    "version": 3
   },
   "file_extension": ".py",
   "mimetype": "text/x-python",
   "name": "python",
   "nbconvert_exporter": "python",
   "pygments_lexer": "ipython3",
   "version": "3.9.13"
  }
 },
 "nbformat": 4,
 "nbformat_minor": 4
}
