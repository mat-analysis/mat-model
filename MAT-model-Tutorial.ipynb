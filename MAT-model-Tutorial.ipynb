{
 "cells": [
  {
   "cell_type": "markdown",
   "metadata": {},
   "source": [
    "# MAT-model: Model Classes for Multiple Aspect Trajectory Data Mining \\[MAT-Tools Framework\\]\n",
    "\n",
    "Sample Code in python notebook to use `mat-model` as a python library.\n",
    "\n",
    "The present package offers a tool, to support the user in the task of modeling multiple aspect trajectories. It integrates into a unique framework for multiple aspects trajectories and in general for multidimensional sequence data mining methods.\n",
    "\n",
    "Created on Apr, 2024\n",
    "Copyright (C) 2023, License GPL Version 3 or superior (see LICENSE file)"
   ]
  },
  {
   "cell_type": "code",
   "execution_count": 13,
   "metadata": {
    "tags": []
   },
   "outputs": [
    {
     "name": "stdout",
     "output_type": "stream",
     "text": [
      "Found existing installation: mat-model 0.1b1\n",
      "Uninstalling mat-model-0.1b1:\n",
      "  Would remove:\n",
      "    /Users/tarlisportela/miniforge3/lib/python3.9/site-packages/mat_model-0.1b1.dist-info/*\n",
      "    /Users/tarlisportela/miniforge3/lib/python3.9/site-packages/matmodel/*\n",
      "Proceed (Y/n)? ^C\n",
      "\u001b[31mERROR: Operation cancelled by user\u001b[0m\u001b[31m\n",
      "\u001b[0m"
     ]
    }
   ],
   "source": [
    "#!pip install mat-model\n",
    "#!pip install --upgrade mat-model"
   ]
  },
  {
   "cell_type": "markdown",
   "metadata": {},
   "source": [
    "#### Trajectory Objects\n",
    "\n",
    "Alternatively, you can convert the dataframe into Trajectory objects:"
   ]
  },
  {
   "cell_type": "code",
   "execution_count": 1,
   "metadata": {},
   "outputs": [
    {
     "ename": "ModuleNotFoundError",
     "evalue": "No module named 'matdata'",
     "output_type": "error",
     "traceback": [
      "\u001b[0;31m---------------------------------------------------------------------------\u001b[0m",
      "\u001b[0;31mModuleNotFoundError\u001b[0m                       Traceback (most recent call last)",
      "Input \u001b[0;32mIn [1]\u001b[0m, in \u001b[0;36m<cell line: 1>\u001b[0;34m()\u001b[0m\n\u001b[0;32m----> 1\u001b[0m \u001b[38;5;28;01mfrom\u001b[39;00m \u001b[38;5;21;01mmatmodel\u001b[39;00m\u001b[38;5;21;01m.\u001b[39;00m\u001b[38;5;21;01mutil\u001b[39;00m\u001b[38;5;21;01m.\u001b[39;00m\u001b[38;5;21;01mparsers\u001b[39;00m \u001b[38;5;28;01mimport\u001b[39;00m df2trajectory\n\u001b[1;32m      3\u001b[0m \u001b[38;5;28;01mfrom\u001b[39;00m \u001b[38;5;21;01mmatdata\u001b[39;00m\u001b[38;5;21;01m.\u001b[39;00m\u001b[38;5;21;01mdataset\u001b[39;00m \u001b[38;5;28;01mimport\u001b[39;00m \u001b[38;5;241m*\u001b[39m\n\u001b[1;32m      4\u001b[0m df \u001b[38;5;241m=\u001b[39m load_ds(sample_size\u001b[38;5;241m=\u001b[39m\u001b[38;5;241m0.25\u001b[39m)\n",
      "File \u001b[0;32m~/workdir/programs/mat-model-pkg/matmodel/util/parsers.py:5\u001b[0m, in \u001b[0;36m<module>\u001b[0;34m\u001b[0m\n\u001b[1;32m      2\u001b[0m \u001b[38;5;28;01mimport\u001b[39;00m \u001b[38;5;21;01mjson\u001b[39;00m\n\u001b[1;32m      3\u001b[0m \u001b[38;5;28;01mfrom\u001b[39;00m \u001b[38;5;21;01mtqdm\u001b[39;00m\u001b[38;5;21;01m.\u001b[39;00m\u001b[38;5;21;01mauto\u001b[39;00m \u001b[38;5;28;01mimport\u001b[39;00m tqdm\n\u001b[0;32m----> 5\u001b[0m \u001b[38;5;28;01mfrom\u001b[39;00m \u001b[38;5;21;01mmatdata\u001b[39;00m\u001b[38;5;21;01m.\u001b[39;00m\u001b[38;5;21;01mpreprocess\u001b[39;00m \u001b[38;5;28;01mimport\u001b[39;00m organizeFrame\n\u001b[1;32m      7\u001b[0m \u001b[38;5;28;01mfrom\u001b[39;00m \u001b[38;5;21;01mmatmodel\u001b[39;00m\u001b[38;5;21;01m.\u001b[39;00m\u001b[38;5;21;01mbase\u001b[39;00m \u001b[38;5;28;01mimport\u001b[39;00m Trajectory, Movelet\n\u001b[1;32m      8\u001b[0m \u001b[38;5;28;01mfrom\u001b[39;00m \u001b[38;5;21;01mmatmodel\u001b[39;00m\u001b[38;5;21;01m.\u001b[39;00m\u001b[38;5;21;01mevaluation\u001b[39;00m \u001b[38;5;28;01mimport\u001b[39;00m Quality\n",
      "\u001b[0;31mModuleNotFoundError\u001b[0m: No module named 'matdata'"
     ]
    }
   ],
   "source": [
    "from matmodel.util.parsers import df2trajectory\n",
    "\n",
    "from matdata.dataset import *\n",
    "df = load_ds(sample_size=0.25)\n",
    "\n",
    "T = df2trajectory(df)\n",
    "T[0]"
   ]
  },
  {
   "cell_type": "code",
   "execution_count": null,
   "metadata": {},
   "outputs": [],
   "source": [
    "sel_attributes = ['poi', 'day', 'category', 'weather']\n",
    "T.attributes"
   ]
  },
  {
   "cell_type": "markdown",
   "metadata": {},
   "source": [
    "---"
   ]
  },
  {
   "cell_type": "code",
   "execution_count": 23,
   "metadata": {},
   "outputs": [
    {
     "data": {
      "text/plain": [
       "{'lat_lon': {'order': 1,\n",
       "  'type': 'space2d',\n",
       "  'text': 'lat_lon',\n",
       "  'comparator': {'distance': 'euclidean'}},\n",
       " 'day': {'order': 2,\n",
       "  'type': 'nominal',\n",
       "  'text': 'day',\n",
       "  'comparator': {'distance': 'equals'}}}"
      ]
     },
     "execution_count": 23,
     "metadata": {},
     "output_type": "execute_result"
    }
   ],
   "source": [
    "attributes = [{'order': 1, 'type': 'space2d', 'text': 'lat_lon', 'comparator': {'distance': 'euclidean'}}, {'order': 2, 'type': 'nominal', 'text': 'day', 'comparator': {'distance': 'equals'}},{'order': 1, 'type': 'space2d', 'text': 'lat_lon', 'comparator': {'distance': 'euclidean'}}, {'order': 2, 'type': 'nominal', 'text': 'day', 'comparator': {'distance': 'equals'}}]\n",
    "\n",
    "dict(map(lambda item: (item['text'], item), attributes))"
   ]
  },
  {
   "cell_type": "code",
   "execution_count": 1,
   "metadata": {},
   "outputs": [
    {
     "data": {
      "text/plain": [
       "{'HiperMovelets': {'hiper': 'HiPerMovelets',\n",
       "  'hiper-pivots': 'HiPerPivots',\n",
       "  'hiper+Log': 'HiPerMovelets-Log',\n",
       "  'hiper-pivots+Log': 'HiPerPivots-Log'},\n",
       " 'MasterMovelets': {'MM': 'MASTERMovelets',\n",
       "  'MM+Log': 'MASTERMovelets-Log',\n",
       "  'MMp': 'MASTERPivots',\n",
       "  'MMp+Log': 'MASTERPivots-Log',\n",
       "  'MML': 'MASTERMovelets-Log',\n",
       "  'MMpL': 'MASTERPivots-Log'}}"
      ]
     },
     "execution_count": 1,
     "metadata": {},
     "output_type": "execute_result"
    }
   ],
   "source": [
    "from matmodel.method import MethodWrapper\n",
    "\n",
    "MethodWrapper.providedMethods()"
   ]
  },
  {
   "cell_type": "code",
   "execution_count": 1,
   "metadata": {},
   "outputs": [
    {
     "data": {
      "text/plain": [
       "0"
      ]
     },
     "execution_count": 1,
     "metadata": {},
     "output_type": "execute_result"
    }
   ],
   "source": [
    "from matmodel.method.MethodWrapper import Param\n",
    "\n",
    "Param.TYPE_TEXT"
   ]
  },
  {
   "cell_type": "markdown",
   "metadata": {},
   "source": [
    "\\# By Tarlis Portela (2023)"
   ]
  }
 ],
 "metadata": {
  "kernelspec": {
   "display_name": "Python 3 (ipykernel)",
   "language": "python",
   "name": "python3"
  },
  "language_info": {
   "codemirror_mode": {
    "name": "ipython",
    "version": 3
   },
   "file_extension": ".py",
   "mimetype": "text/x-python",
   "name": "python",
   "nbconvert_exporter": "python",
   "pygments_lexer": "ipython3",
   "version": "3.9.13"
  }
 },
 "nbformat": 4,
 "nbformat_minor": 4
}
